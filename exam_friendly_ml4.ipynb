{
  "nbformat": 4,
  "nbformat_minor": 0,
  "metadata": {
    "colab": {
      "provenance": [],
      "authorship_tag": "ABX9TyNbvR+mQVyqjgI9ONX3quqV",
      "include_colab_link": true
    },
    "kernelspec": {
      "name": "python3",
      "display_name": "Python 3"
    },
    "language_info": {
      "name": "python"
    }
  },
  "cells": [
    {
      "cell_type": "markdown",
      "metadata": {
        "id": "view-in-github",
        "colab_type": "text"
      },
      "source": [
        "<a href=\"https://colab.research.google.com/github/CyperVoid/all-simplified-ml-labs/blob/main/exam_friendly_ml4.ipynb\" target=\"_parent\"><img src=\"https://colab.research.google.com/assets/colab-badge.svg\" alt=\"Open In Colab\"/></a>"
      ]
    },
    {
      "cell_type": "code",
      "execution_count": null,
      "metadata": {
        "id": "aqZXAuNsDpys"
      },
      "outputs": [],
      "source": [
        "import pandas as pd\n",
        "\n",
        "def find_s(file_path):\n",
        "    data = pd.read_csv(file_path)\n",
        "    print(\"Training Data:\")\n",
        "    print(data)\n",
        "\n",
        "    attrs = data.columns[:-1]         # All columns except the target\n",
        "    target = data.columns[-1]         # The target column (PlayTennis)\n",
        "    hypo = ['?' for _ in attrs]       # Start with the most specific hypothesis\n",
        "\n",
        "    for _, row in data.iterrows():\n",
        "        if row[target] == 'Yes':      # Only consider positive examples\n",
        "            for i, val in enumerate(row[attrs]):\n",
        "                if hypo[i] == '?':\n",
        "                    hypo[i] = val\n",
        "                elif hypo[i] != val:\n",
        "                    hypo[i] = '?'\n",
        "    return hypo\n",
        "\n",
        "# Path to training data file\n",
        "file_path = 'training_data.csv'\n",
        "final_hypothesis = find_s(file_path)\n",
        "\n",
        "print(\"\\nFinal Hypothesis:\", final_hypothesis)\n",
        "\n",
        "#This is the training data file:\n",
        "#Outlook,Temperature,Humidity,Windy,PlayTennis\n",
        "#Sunny,Hot,High,FALSE,No\n",
        "#Sunny,Hot,High,TRUE,No\n",
        "#Overcast,Hot,High,FALSE,Yes\n",
        "#Rain,Cold,High,FALSE,Yes\n",
        "#Rain,Cold,High,TRUE,No\n",
        "#Overcast,Hot,High,TRUE,Yes\n",
        "#Sunny,Hot,High,FALSE,No\n"
      ]
    }
  ]
}